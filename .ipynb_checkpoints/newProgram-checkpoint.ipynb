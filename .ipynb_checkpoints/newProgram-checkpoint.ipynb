{
 "cells": [
  {
   "cell_type": "code",
   "execution_count": null,
   "metadata": {},
   "outputs": [],
   "source": [
    "nameInput= input(\"What is your name?\")\n",
    "ageInput= input(\"How old are you?\")\n",
    "if ageInput < 18:\n",
    "    print (\"Sorry\", nameInput, \"you cannot vote!\")\n",
    "else:\n",
    "    print (nameInput, \", you can vote! Go to your nearest polling location on November 7!\")"
   ]
  }
 ],
 "metadata": {
  "kernelspec": {
   "display_name": "Python 3",
   "language": "python",
   "name": "python3"
  },
  "language_info": {
   "codemirror_mode": {
    "name": "ipython",
    "version": 3
   },
   "file_extension": ".py",
   "mimetype": "text/x-python",
   "name": "python",
   "nbconvert_exporter": "python",
   "pygments_lexer": "ipython3",
   "version": "3.8.3"
  }
 },
 "nbformat": 4,
 "nbformat_minor": 4
}
